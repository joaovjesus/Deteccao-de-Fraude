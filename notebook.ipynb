{
 "cells": [
  {
   "cell_type": "markdown",
   "metadata": {},
   "source": [
    "#### Contexto\n",
    "\n",
    "<img src=\"https://chargebacks911.com/wp-content/uploads/2023/02/Fraud-Detection-blog.jpg\" width=\"700\"/>\n",
    "\n",
    "Os prejuizos com fraudes financeiras atingiram a marca de R$2,5 bilhões em 2022, segundo o Banco Central.\n",
    "\n",
    "Fonte: [https://exame.com/inteligencia-artificial/...](https://exame.com/inteligencia-artificial/com-r-25-bi-em-prejuizos-por-fraudes-bc-estuda-responsabilizar-bancos-por-golpes-ia-pode-ajudar/)\n",
    "\n",
    "Segundo pesquisa realizada pela Confederação Nacional de Dirigentes Lojistas (CNDL) e pelo Serviço de Proteção ao Crédito (SPC Brasil), 8,4 milhões de pessoas sofreram algum tipo de fraude no ano de 2022, sendo 4% desses, vítimas de fraudes por transações bancárias.\n",
    "\n",
    "Fonte: [https://site.cndl.org.br/8-milhoes-de-consumidores...](https://site.cndl.org.br/8-milhoes-de-consumidores-sofreram-golpes-financeiros-nos-ultimos-12-meses-aponta-cndl-spc-brasil/)\n",
    "\n",
    "Um estudo conduzido pela Juniper Research prevê que os gastos com tecnologias para detectar fraudes excederão US$ 10 bilhões globalmente em 2027.\n",
    "\n",
    "Fonte: [https://inforchannel.com.br/2022/11/19/gastos-com-deteccao-de-fraudes](https://inforchannel.com.br/2022/11/19/gastos-com-deteccao-de-fraudes-financeiras-com-ia-somarao-us-10-bi-em-2027/)\n",
    "\n",
    "\n",
    "#### Objetivo\n",
    "Criar um modelo de detecção de fraudes financeiras utilizando técnicas de aprendizado de máquina supervisionado.\n",
    "\n",
    "Para o estudo será usado um banco de dados disponibilizado pela Tera com dados gerados sintéticamente e este será conduzido da seguinte forma:\n",
    "\n",
    "* Análise exploratória dos dados\n",
    "* Pré-processamento dos dados\n",
    "* Implementação e análise do modelo\n",
    "* Conclusão\n",
    "\n",
    "As linhas de código abaixo carregam as bibliotecas necessárias e a base de dados para o estudo.\n"
   ]
  },
  {
   "cell_type": "code",
   "execution_count": 1,
   "metadata": {},
   "outputs": [],
   "source": [
    "import pandas as pd\n",
    "import numpy as np\n",
    "import matplotlib.pyplot as plt\n",
    "import seaborn as sns \n",
    "import warnings\n",
    "import missingno as msno\n",
    "\n",
    "from sklearn.preprocessing import OneHotEncoder\n",
    "from sklearn.model_selection import train_test_split, GridSearchCV\n",
    "from sklearn.linear_model import LogisticRegression\n",
    "from sklearn.metrics import confusion_matrix, classification_report, ConfusionMatrixDisplay, accuracy_score, precision_score, recall_score, f1_score, roc_auc_score\n",
    "from imblearn.over_sampling import ADASYN\n",
    "from collections import Counter\n",
    "from imblearn.under_sampling import ClusterCentroids\n",
    "from sklearn.cluster import MiniBatchKMeans\n",
    "from imblearn.combine import SMOTEENN\n",
    "\n",
    "warnings.filterwarnings('ignore')"
   ]
  },
  {
   "cell_type": "code",
   "execution_count": 2,
   "metadata": {},
   "outputs": [],
   "source": [
    "df = pd.read_csv(\"data/fraud_database.csv\")"
   ]
  },
  {
   "cell_type": "markdown",
   "metadata": {},
   "source": [
    "Para uso posterior, é criada a função model_evaluation."
   ]
  },
  {
   "cell_type": "code",
   "execution_count": 3,
   "metadata": {},
   "outputs": [],
   "source": [
    "estrategy_list = []\n",
    "accuracy_list = []\n",
    "precision_list = []\n",
    "recall_list = []\n",
    "f1score_list = []\n",
    "auc_list = []\n",
    "\n",
    "\n",
    "def model_evaluation(y_test, y_pred, model_function, model_name):\n",
    "    accuracy =  accuracy_score(y_test, y_pred)\n",
    "    precision = precision_score(y_test, y_pred)\n",
    "    recall = recall_score(y_test, y_pred)\n",
    "    f1score = f1_score(y_test, y_pred)\n",
    "    auc = roc_auc_score(y_test, y_pred)\n",
    "    \n",
    "    estrategy_list.append(model_name)\n",
    "    accuracy_list.append(accuracy)\n",
    "    precision_list.append(precision)\n",
    "    recall_list.append(recall)\n",
    "    f1score_list.append(f1score)\n",
    "    auc_list.append(auc)\n",
    "\n",
    "    results = pd.DataFrame({'Estrategy' : estrategy_list,\n",
    "                 'accuracy' : accuracy_list,\n",
    "                 'precision' : precision_list,\n",
    "                 'recall' : recall_list,\n",
    "                 'F1 score' : f1score_list,\n",
    "                'AUC' : auc_list\n",
    "              })    \n",
    "\n",
    "    cm = confusion_matrix(y_test, y_pred)\n",
    "    disp = ConfusionMatrixDisplay(confusion_matrix=cm, display_labels=model_function.classes_)\n",
    "    disp.plot(values_format='d')\n",
    "\n",
    "    cr = classification_report(y_test, y_pred, target_names=['Not Fraud', 'Fraud'])\n",
    "    print(cr)\n",
    "\n",
    "    print(results)\n",
    "\n",
    "    "
   ]
  },
  {
   "cell_type": "markdown",
   "metadata": {},
   "source": [
    "#### Análise exploratória dos dados\n",
    "\n",
    "Nesta seção serão exploradas as características básicas dos datasets, como dimensões e variáveis.  \n",
    "Uma amostra do banco de dados é apresentada."
   ]
  },
  {
   "cell_type": "code",
   "execution_count": 4,
   "metadata": {},
   "outputs": [
    {
     "data": {
      "text/html": [
       "<div>\n",
       "<style scoped>\n",
       "    .dataframe tbody tr th:only-of-type {\n",
       "        vertical-align: middle;\n",
       "    }\n",
       "\n",
       "    .dataframe tbody tr th {\n",
       "        vertical-align: top;\n",
       "    }\n",
       "\n",
       "    .dataframe thead th {\n",
       "        text-align: right;\n",
       "    }\n",
       "</style>\n",
       "<table border=\"1\" class=\"dataframe\">\n",
       "  <thead>\n",
       "    <tr style=\"text-align: right;\">\n",
       "      <th></th>\n",
       "      <th>step</th>\n",
       "      <th>type</th>\n",
       "      <th>amount</th>\n",
       "      <th>nameOrig</th>\n",
       "      <th>oldbalanceOrg</th>\n",
       "      <th>newbalanceOrig</th>\n",
       "      <th>nameDest</th>\n",
       "      <th>oldbalanceDest</th>\n",
       "      <th>newbalanceDest</th>\n",
       "      <th>isFraud</th>\n",
       "      <th>isFlaggedFraud</th>\n",
       "    </tr>\n",
       "  </thead>\n",
       "  <tbody>\n",
       "    <tr>\n",
       "      <th>0</th>\n",
       "      <td>1</td>\n",
       "      <td>PAYMENT</td>\n",
       "      <td>9839.64</td>\n",
       "      <td>C1231006815</td>\n",
       "      <td>170136.0</td>\n",
       "      <td>160296.36</td>\n",
       "      <td>M1979787155</td>\n",
       "      <td>0.0</td>\n",
       "      <td>0.0</td>\n",
       "      <td>0</td>\n",
       "      <td>0</td>\n",
       "    </tr>\n",
       "    <tr>\n",
       "      <th>1</th>\n",
       "      <td>1</td>\n",
       "      <td>PAYMENT</td>\n",
       "      <td>1864.28</td>\n",
       "      <td>C1666544295</td>\n",
       "      <td>21249.0</td>\n",
       "      <td>19384.72</td>\n",
       "      <td>M2044282225</td>\n",
       "      <td>0.0</td>\n",
       "      <td>0.0</td>\n",
       "      <td>0</td>\n",
       "      <td>0</td>\n",
       "    </tr>\n",
       "    <tr>\n",
       "      <th>2</th>\n",
       "      <td>1</td>\n",
       "      <td>TRANSFER</td>\n",
       "      <td>181.00</td>\n",
       "      <td>C1305486145</td>\n",
       "      <td>181.0</td>\n",
       "      <td>0.00</td>\n",
       "      <td>C553264065</td>\n",
       "      <td>0.0</td>\n",
       "      <td>0.0</td>\n",
       "      <td>1</td>\n",
       "      <td>0</td>\n",
       "    </tr>\n",
       "    <tr>\n",
       "      <th>3</th>\n",
       "      <td>1</td>\n",
       "      <td>CASH_OUT</td>\n",
       "      <td>181.00</td>\n",
       "      <td>C840083671</td>\n",
       "      <td>181.0</td>\n",
       "      <td>0.00</td>\n",
       "      <td>C38997010</td>\n",
       "      <td>21182.0</td>\n",
       "      <td>0.0</td>\n",
       "      <td>1</td>\n",
       "      <td>0</td>\n",
       "    </tr>\n",
       "    <tr>\n",
       "      <th>4</th>\n",
       "      <td>1</td>\n",
       "      <td>PAYMENT</td>\n",
       "      <td>11668.14</td>\n",
       "      <td>C2048537720</td>\n",
       "      <td>41554.0</td>\n",
       "      <td>29885.86</td>\n",
       "      <td>M1230701703</td>\n",
       "      <td>0.0</td>\n",
       "      <td>0.0</td>\n",
       "      <td>0</td>\n",
       "      <td>0</td>\n",
       "    </tr>\n",
       "  </tbody>\n",
       "</table>\n",
       "</div>"
      ],
      "text/plain": [
       "   step      type    amount     nameOrig  oldbalanceOrg  newbalanceOrig  \\\n",
       "0     1   PAYMENT   9839.64  C1231006815       170136.0       160296.36   \n",
       "1     1   PAYMENT   1864.28  C1666544295        21249.0        19384.72   \n",
       "2     1  TRANSFER    181.00  C1305486145          181.0            0.00   \n",
       "3     1  CASH_OUT    181.00   C840083671          181.0            0.00   \n",
       "4     1   PAYMENT  11668.14  C2048537720        41554.0        29885.86   \n",
       "\n",
       "      nameDest  oldbalanceDest  newbalanceDest  isFraud  isFlaggedFraud  \n",
       "0  M1979787155             0.0             0.0        0               0  \n",
       "1  M2044282225             0.0             0.0        0               0  \n",
       "2   C553264065             0.0             0.0        1               0  \n",
       "3    C38997010         21182.0             0.0        1               0  \n",
       "4  M1230701703             0.0             0.0        0               0  "
      ]
     },
     "execution_count": 4,
     "metadata": {},
     "output_type": "execute_result"
    }
   ],
   "source": [
    "df.head()"
   ]
  },
  {
   "cell_type": "markdown",
   "metadata": {},
   "source": [
    "Verificação das variáveis contidas no banco de dados e os tipos dos dados. Esse dataset contém 6362620 linhas e 11 colunas."
   ]
  },
  {
   "cell_type": "code",
   "execution_count": 5,
   "metadata": {},
   "outputs": [
    {
     "name": "stdout",
     "output_type": "stream",
     "text": [
      "<class 'pandas.core.frame.DataFrame'>\n",
      "RangeIndex: 6362620 entries, 0 to 6362619\n",
      "Data columns (total 11 columns):\n",
      " #   Column          Dtype  \n",
      "---  ------          -----  \n",
      " 0   step            int64  \n",
      " 1   type            object \n",
      " 2   amount          float64\n",
      " 3   nameOrig        object \n",
      " 4   oldbalanceOrg   float64\n",
      " 5   newbalanceOrig  float64\n",
      " 6   nameDest        object \n",
      " 7   oldbalanceDest  float64\n",
      " 8   newbalanceDest  float64\n",
      " 9   isFraud         int64  \n",
      " 10  isFlaggedFraud  int64  \n",
      "dtypes: float64(5), int64(3), object(3)\n",
      "memory usage: 534.0+ MB\n"
     ]
    }
   ],
   "source": [
    "df.info()"
   ]
  },
  {
   "cell_type": "markdown",
   "metadata": {},
   "source": [
    "\"type\" é uma variável categórica que indica qual o tipo de transação que foi realizada. Abaixo é verificado os possíveis tipos de transação, sendo eles:\n",
    "\n",
    "* **CASH_OUT**: Saída de dinheiro\n",
    "* **PAYMENT**: Pagamento\n",
    "* **CASH_IN**: Entrada de dinheiro\n",
    "* **TRANSFER**: Transferência Bancária\n",
    "* **DEBIT**: Débito"
   ]
  },
  {
   "cell_type": "code",
   "execution_count": 6,
   "metadata": {},
   "outputs": [
    {
     "data": {
      "text/plain": [
       "type\n",
       "CASH_OUT    2237500\n",
       "PAYMENT     2151495\n",
       "CASH_IN     1399284\n",
       "TRANSFER     532909\n",
       "DEBIT         41432\n",
       "Name: count, dtype: int64"
      ]
     },
     "execution_count": 6,
     "metadata": {},
     "output_type": "execute_result"
    }
   ],
   "source": [
    "df['type'].value_counts()"
   ]
  },
  {
   "cell_type": "markdown",
   "metadata": {},
   "source": [
    "São apresentados os percentuais de cada tipo de transação no dataset."
   ]
  },
  {
   "cell_type": "code",
   "execution_count": 26,
   "metadata": {},
   "outputs": [
    {
     "name": "stdout",
     "output_type": "stream",
     "text": [
      "CASH_OUT: 35.17%\n",
      "PAYMENT: 33.81%\n",
      "CASH_IN: 21.99%\n",
      "TRANSFER: 8.38%\n",
      "DEBIT: 0.65%\n"
     ]
    }
   ],
   "source": [
    "for i in range(len(df['type'].value_counts())):\n",
    "    perc = (df['type'].value_counts().iloc[i] / df.shape[0]) * 100\n",
    "    var = df['type'].value_counts().index[i]\n",
    "    print(\"{}: {:.2f}%\".format(var, perc))"
   ]
  },
  {
   "cell_type": "markdown",
   "metadata": {},
   "source": [
    "A variável \"isFraud\" será a variável resposta, ou seja, o que deseja-se prever. A partir deste ponto será tratada como \"y\". O valor dessa variável pode ser \"0\", significando que a transação é normal ou \"1\" indicando que é fraudulenta.\n",
    "É apresentado o percentual de transações que são classificadas como normais e fraudes."
   ]
  },
  {
   "cell_type": "code",
   "execution_count": 27,
   "metadata": {},
   "outputs": [
    {
     "data": {
      "text/plain": [
       "isFraud\n",
       "0    6354407\n",
       "1       8213\n",
       "Name: count, dtype: int64"
      ]
     },
     "execution_count": 27,
     "metadata": {},
     "output_type": "execute_result"
    }
   ],
   "source": [
    "df['isFraud'].value_counts()"
   ]
  },
  {
   "cell_type": "code",
   "execution_count": 31,
   "metadata": {},
   "outputs": [
    {
     "name": "stdout",
     "output_type": "stream",
     "text": [
      "99.87% dos dados são de transações apontadas como normais e apenas 0.13% são fraudes.\n"
     ]
    }
   ],
   "source": [
    "y_fraud_perc = (df[df['isFraud'] == 1].value_counts().sum() / df.shape[0]) * 100\n",
    "y_not_fraud_perc = 100 - y_fraud_perc\n",
    "print(\"{:.2f}% dos dados são de transações apontadas como normais e apenas {:.2f}% são fraudes.\"\n",
    "      .format(y_not_fraud_perc, y_fraud_perc))"
   ]
  },
  {
   "cell_type": "markdown",
   "metadata": {},
   "source": [
    "Verificou-se que o dataset é desbalanceado. Como os algorítmos de machine learning assumem que o dataset é balanceado, faz-se necessário balancear os dados.  \n",
    "Abaixo é apresentado um gráfico de dispersão, onde os valores das transações estão na ordenada (eixo vertical). Nota-se que os valores das transações fraudulentas encontram-se abaixo de 2e+07."
   ]
  },
  {
   "cell_type": "code",
   "execution_count": 32,
   "metadata": {},
   "outputs": [
    {
     "data": {
      "text/plain": [
       "<seaborn.axisgrid.FacetGrid at 0x20196a25d50>"
      ]
     },
     "execution_count": 32,
     "metadata": {},
     "output_type": "execute_result"
    },
    {
     "data": {
      "image/png": "[encoded data removed]",
      "text/plain": [
       "<Figure size 561.111x500 with 1 Axes>"
      ]
     },
     "metadata": {},
     "output_type": "display_data"
    }
   ],
   "source": [
    "df['x1'] = df.index\n",
    "sns.lmplot(x='x1', y='amount', data=df, hue='isFraud', fit_reg=False)"
   ]
  },
  {
   "cell_type": "markdown",
   "metadata": {},
   "source": [
    "As variáveis originalmente categóricas que estavam como numéricas tiveram suas categorias alteradas."
   ]
  },
  {
   "cell_type": "code",
   "execution_count": 34,
   "metadata": {},
   "outputs": [],
   "source": [
    "df['step'] = df['step'].astype('category')\n",
    "df['type'] = df['type'].astype('category')\n",
    "df['nameOrig'] = df['nameOrig'].astype('category')\n",
    "df['nameDest'] = df['nameDest'].astype('category')\n",
    "df['isFraud'] = df['isFraud'].astype('category')\n",
    "df['isFlaggedFraud'] = df['isFlaggedFraud'].astype('category')"
   ]
  },
  {
   "cell_type": "markdown",
   "metadata": {},
   "source": [
    "Abaixo é verificado se existem valores faltantes e conclui-se que não há."
   ]
  },
  {
   "cell_type": "code",
   "execution_count": 36,
   "metadata": {},
   "outputs": [
    {
     "data": {
      "image/png": "[encoded data removed]",
      "text/plain": [
       "<Figure size 2500x1000 with 2 Axes>"
      ]
     },
     "metadata": {},
     "output_type": "display_data"
    }
   ],
   "source": [
    "msno.matrix(df)\n",
    "plt.show()"
   ]
  },
  {
   "cell_type": "markdown",
   "metadata": {},
   "source": [
    "Ao analisar o boxplot verifica-se uma assimetria dos dados, uma vez que a linha da mediana aproxima-se do 1º quartil, indicando ser uma distribuição assimetrica positiva. Apesar da existência de outliers a amplitude dos dados  relativamente baixa, com 50% dos dados estando entre 1.27e+05 e 1.52e+06."
   ]
  },
  {
   "cell_type": "code",
   "execution_count": 51,
   "metadata": {},
   "outputs": [
    {
     "data": {
      "image/png": "[encoded data removed]",
      "text/plain": [
       "<Figure size 640x480 with 1 Axes>"
      ]
     },
     "metadata": {},
     "output_type": "display_data"
    }
   ],
   "source": [
    "sns.boxplot(\n",
    "data=df[df['isFraud'] == 1],\n",
    "x='amount',\n",
    "y='isFraud',\n",
    "orient='h'\n",
    ")\n",
    "plt.show()"
   ]
  },
  {
   "cell_type": "markdown",
   "metadata": {},
   "source": [
    "A média dos dados indicados como fraude é 14.7e+05 e a mediana 4,41e+05, que reforça a representação gráfica apresentada acima."
   ]
  },
  {
   "cell_type": "code",
   "execution_count": 69,
   "metadata": {},
   "outputs": [
    {
     "data": {
      "text/html": [
       "<div>\n",
       "<style scoped>\n",
       "    .dataframe tbody tr th:only-of-type {\n",
       "        vertical-align: middle;\n",
       "    }\n",
       "\n",
       "    .dataframe tbody tr th {\n",
       "        vertical-align: top;\n",
       "    }\n",
       "\n",
       "    .dataframe thead th {\n",
       "        text-align: right;\n",
       "    }\n",
       "</style>\n",
       "<table border=\"1\" class=\"dataframe\">\n",
       "  <thead>\n",
       "    <tr style=\"text-align: right;\">\n",
       "      <th></th>\n",
       "      <th>amount</th>\n",
       "      <th>oldbalanceOrg</th>\n",
       "      <th>newbalanceOrig</th>\n",
       "      <th>oldbalanceDest</th>\n",
       "      <th>newbalanceDest</th>\n",
       "      <th>x1</th>\n",
       "    </tr>\n",
       "  </thead>\n",
       "  <tbody>\n",
       "    <tr>\n",
       "      <th>count</th>\n",
       "      <td>8.213000e+03</td>\n",
       "      <td>8.213000e+03</td>\n",
       "      <td>8.213000e+03</td>\n",
       "      <td>8.213000e+03</td>\n",
       "      <td>8.213000e+03</td>\n",
       "      <td>8.213000e+03</td>\n",
       "    </tr>\n",
       "    <tr>\n",
       "      <th>mean</th>\n",
       "      <td>1.467967e+06</td>\n",
       "      <td>1.649668e+06</td>\n",
       "      <td>1.923926e+05</td>\n",
       "      <td>5.442496e+05</td>\n",
       "      <td>1.279708e+06</td>\n",
       "      <td>4.244980e+06</td>\n",
       "    </tr>\n",
       "    <tr>\n",
       "      <th>std</th>\n",
       "      <td>2.404253e+06</td>\n",
       "      <td>3.547719e+06</td>\n",
       "      <td>1.965666e+06</td>\n",
       "      <td>3.336421e+06</td>\n",
       "      <td>3.908817e+06</td>\n",
       "      <td>2.157498e+06</td>\n",
       "    </tr>\n",
       "    <tr>\n",
       "      <th>min</th>\n",
       "      <td>0.000000e+00</td>\n",
       "      <td>0.000000e+00</td>\n",
       "      <td>0.000000e+00</td>\n",
       "      <td>0.000000e+00</td>\n",
       "      <td>0.000000e+00</td>\n",
       "      <td>2.000000e+00</td>\n",
       "    </tr>\n",
       "    <tr>\n",
       "      <th>25%</th>\n",
       "      <td>1.270913e+05</td>\n",
       "      <td>1.258224e+05</td>\n",
       "      <td>0.000000e+00</td>\n",
       "      <td>0.000000e+00</td>\n",
       "      <td>0.000000e+00</td>\n",
       "      <td>2.065130e+06</td>\n",
       "    </tr>\n",
       "    <tr>\n",
       "      <th>50%</th>\n",
       "      <td>4.414234e+05</td>\n",
       "      <td>4.389835e+05</td>\n",
       "      <td>0.000000e+00</td>\n",
       "      <td>0.000000e+00</td>\n",
       "      <td>4.676420e+03</td>\n",
       "      <td>5.188057e+06</td>\n",
       "    </tr>\n",
       "    <tr>\n",
       "      <th>75%</th>\n",
       "      <td>1.517771e+06</td>\n",
       "      <td>1.517771e+06</td>\n",
       "      <td>0.000000e+00</td>\n",
       "      <td>1.478287e+05</td>\n",
       "      <td>1.058725e+06</td>\n",
       "      <td>6.168689e+06</td>\n",
       "    </tr>\n",
       "    <tr>\n",
       "      <th>99%</th>\n",
       "      <td>1.000000e+07</td>\n",
       "      <td>1.549020e+07</td>\n",
       "      <td>5.617708e+06</td>\n",
       "      <td>9.342000e+06</td>\n",
       "      <td>1.181407e+07</td>\n",
       "      <td>6.362537e+06</td>\n",
       "    </tr>\n",
       "    <tr>\n",
       "      <th>max</th>\n",
       "      <td>1.000000e+07</td>\n",
       "      <td>5.958504e+07</td>\n",
       "      <td>4.958504e+07</td>\n",
       "      <td>2.362305e+08</td>\n",
       "      <td>2.367265e+08</td>\n",
       "      <td>6.362619e+06</td>\n",
       "    </tr>\n",
       "  </tbody>\n",
       "</table>\n",
       "</div>"
      ],
      "text/plain": [
       "             amount  oldbalanceOrg  newbalanceOrig  oldbalanceDest  \\\n",
       "count  8.213000e+03   8.213000e+03    8.213000e+03    8.213000e+03   \n",
       "mean   1.467967e+06   1.649668e+06    1.923926e+05    5.442496e+05   \n",
       "std    2.404253e+06   3.547719e+06    1.965666e+06    3.336421e+06   \n",
       "min    0.000000e+00   0.000000e+00    0.000000e+00    0.000000e+00   \n",
       "25%    1.270913e+05   1.258224e+05    0.000000e+00    0.000000e+00   \n",
       "50%    4.414234e+05   4.389835e+05    0.000000e+00    0.000000e+00   \n",
       "75%    1.517771e+06   1.517771e+06    0.000000e+00    1.478287e+05   \n",
       "99%    1.000000e+07   1.549020e+07    5.617708e+06    9.342000e+06   \n",
       "max    1.000000e+07   5.958504e+07    4.958504e+07    2.362305e+08   \n",
       "\n",
       "       newbalanceDest            x1  \n",
       "count    8.213000e+03  8.213000e+03  \n",
       "mean     1.279708e+06  4.244980e+06  \n",
       "std      3.908817e+06  2.157498e+06  \n",
       "min      0.000000e+00  2.000000e+00  \n",
       "25%      0.000000e+00  2.065130e+06  \n",
       "50%      4.676420e+03  5.188057e+06  \n",
       "75%      1.058725e+06  6.168689e+06  \n",
       "99%      1.181407e+07  6.362537e+06  \n",
       "max      2.367265e+08  6.362619e+06  "
      ]
     },
     "execution_count": 69,
     "metadata": {},
     "output_type": "execute_result"
    }
   ],
   "source": [
    "df_isfraud.describe(percentiles=[0.25, 0.5, 0.75, 0.99])"
   ]
  },
  {
   "cell_type": "markdown",
   "metadata": {},
   "source": [
    "Para realizar análise sobre os dados apontados como fraude, será criado um dataset somente com esses dados."
   ]
  },
  {
   "cell_type": "code",
   "execution_count": 48,
   "metadata": {},
   "outputs": [],
   "source": [
    "df_isfraud = df[df['isFraud'] == 1].copy(deep=True)"
   ]
  },
  {
   "cell_type": "code",
   "execution_count": 55,
   "metadata": {},
   "outputs": [],
   "source": [
    "df_cat = df.select_dtypes(include='category')\n",
    "df_num = df.select_dtypes(exclude='category')"
   ]
  },
  {
   "cell_type": "code",
   "execution_count": 73,
   "metadata": {},
   "outputs": [
    {
     "data": {
      "text/html": [
       "<div>\n",
       "<style scoped>\n",
       "    .dataframe tbody tr th:only-of-type {\n",
       "        vertical-align: middle;\n",
       "    }\n",
       "\n",
       "    .dataframe tbody tr th {\n",
       "        vertical-align: top;\n",
       "    }\n",
       "\n",
       "    .dataframe thead th {\n",
       "        text-align: right;\n",
       "    }\n",
       "</style>\n",
       "<table border=\"1\" class=\"dataframe\">\n",
       "  <thead>\n",
       "    <tr style=\"text-align: right;\">\n",
       "      <th></th>\n",
       "      <th>step</th>\n",
       "      <th>type</th>\n",
       "      <th>nameOrig</th>\n",
       "      <th>nameDest</th>\n",
       "      <th>isFraud</th>\n",
       "      <th>isFlaggedFraud</th>\n",
       "    </tr>\n",
       "  </thead>\n",
       "  <tbody>\n",
       "    <tr>\n",
       "      <th>0</th>\n",
       "      <td>1</td>\n",
       "      <td>PAYMENT</td>\n",
       "      <td>C1231006815</td>\n",
       "      <td>M1979787155</td>\n",
       "      <td>0</td>\n",
       "      <td>0</td>\n",
       "    </tr>\n",
       "    <tr>\n",
       "      <th>1</th>\n",
       "      <td>1</td>\n",
       "      <td>PAYMENT</td>\n",
       "      <td>C1666544295</td>\n",
       "      <td>M2044282225</td>\n",
       "      <td>0</td>\n",
       "      <td>0</td>\n",
       "    </tr>\n",
       "    <tr>\n",
       "      <th>2</th>\n",
       "      <td>1</td>\n",
       "      <td>TRANSFER</td>\n",
       "      <td>C1305486145</td>\n",
       "      <td>C553264065</td>\n",
       "      <td>1</td>\n",
       "      <td>0</td>\n",
       "    </tr>\n",
       "    <tr>\n",
       "      <th>3</th>\n",
       "      <td>1</td>\n",
       "      <td>CASH_OUT</td>\n",
       "      <td>C840083671</td>\n",
       "      <td>C38997010</td>\n",
       "      <td>1</td>\n",
       "      <td>0</td>\n",
       "    </tr>\n",
       "    <tr>\n",
       "      <th>4</th>\n",
       "      <td>1</td>\n",
       "      <td>PAYMENT</td>\n",
       "      <td>C2048537720</td>\n",
       "      <td>M1230701703</td>\n",
       "      <td>0</td>\n",
       "      <td>0</td>\n",
       "    </tr>\n",
       "  </tbody>\n",
       "</table>\n",
       "</div>"
      ],
      "text/plain": [
       "  step      type     nameOrig     nameDest isFraud isFlaggedFraud\n",
       "0    1   PAYMENT  C1231006815  M1979787155       0              0\n",
       "1    1   PAYMENT  C1666544295  M2044282225       0              0\n",
       "2    1  TRANSFER  C1305486145   C553264065       1              0\n",
       "3    1  CASH_OUT   C840083671    C38997010       1              0\n",
       "4    1   PAYMENT  C2048537720  M1230701703       0              0"
      ]
     },
     "execution_count": 73,
     "metadata": {},
     "output_type": "execute_result"
    }
   ],
   "source": [
    "df_cat.head()"
   ]
  },
  {
   "cell_type": "markdown",
   "metadata": {},
   "source": [
    "#### Pré-processamento dos dados\n",
    "\n",
    "Para ser possível usar as variáveis categóricas no algorítmo, é necessário transformá-las em númericas. Para tal, foi utilizada a técnica de One-Hot Enconding somente na variável \"type\" pois as variáveis \"nameOrig\" e \"nameDest\" possuem um elevado volume de dados não únicos, sendo difícil de associá-los a fraudes por ser difícil de identicar um padrão.  \n",
    "\n",
    "Abaixo realiza-se a cópia da coluna 'type' para aplicaçãod do One Hot Encoding."
   ]
  },
  {
   "cell_type": "code",
   "execution_count": 62,
   "metadata": {},
   "outputs": [],
   "source": [
    "df_encoding = df_cat['type'].copy(deep=True)"
   ]
  },
  {
   "cell_type": "markdown",
   "metadata": {},
   "source": [
    "A técnica de One Hot Encoding é instânciada e então aplicada aos dados. Após isso o rótulo dos dados é aplicado ao resultado."
   ]
  },
  {
   "cell_type": "code",
   "execution_count": 64,
   "metadata": {},
   "outputs": [],
   "source": [
    "OH_encoder = OneHotEncoder(handle_unknown='ignore', sparse=False)"
   ]
  },
  {
   "cell_type": "code",
   "execution_count": 65,
   "metadata": {},
   "outputs": [],
   "source": [
    "OH_cols = pd.DataFrame(OH_encoder.fit_transform(df_encoding.values.reshape(-1, 1)))"
   ]
  },
  {
   "cell_type": "code",
   "execution_count": 75,
   "metadata": {},
   "outputs": [],
   "source": [
    "OH_cols.index = df_encoding.index"
   ]
  },
  {
   "cell_type": "code",
   "execution_count": 78,
   "metadata": {},
   "outputs": [],
   "source": [
    "OH_cols.columns = OH_encoder.get_feature_names_out(['type'])"
   ]
  },
  {
   "cell_type": "code",
   "execution_count": 80,
   "metadata": {},
   "outputs": [
    {
     "data": {
      "text/html": [
       "<div>\n",
       "<style scoped>\n",
       "    .dataframe tbody tr th:only-of-type {\n",
       "        vertical-align: middle;\n",
       "    }\n",
       "\n",
       "    .dataframe tbody tr th {\n",
       "        vertical-align: top;\n",
       "    }\n",
       "\n",
       "    .dataframe thead th {\n",
       "        text-align: right;\n",
       "    }\n",
       "</style>\n",
       "<table border=\"1\" class=\"dataframe\">\n",
       "  <thead>\n",
       "    <tr style=\"text-align: right;\">\n",
       "      <th></th>\n",
       "      <th>type_CASH_IN</th>\n",
       "      <th>type_CASH_OUT</th>\n",
       "      <th>type_DEBIT</th>\n",
       "      <th>type_PAYMENT</th>\n",
       "      <th>type_TRANSFER</th>\n",
       "    </tr>\n",
       "  </thead>\n",
       "  <tbody>\n",
       "    <tr>\n",
       "      <th>0</th>\n",
       "      <td>0.0</td>\n",
       "      <td>0.0</td>\n",
       "      <td>0.0</td>\n",
       "      <td>1.0</td>\n",
       "      <td>0.0</td>\n",
       "    </tr>\n",
       "    <tr>\n",
       "      <th>1</th>\n",
       "      <td>0.0</td>\n",
       "      <td>0.0</td>\n",
       "      <td>0.0</td>\n",
       "      <td>1.0</td>\n",
       "      <td>0.0</td>\n",
       "    </tr>\n",
       "  </tbody>\n",
       "</table>\n",
       "</div>"
      ],
      "text/plain": [
       "   type_CASH_IN  type_CASH_OUT  type_DEBIT  type_PAYMENT  type_TRANSFER\n",
       "0           0.0            0.0         0.0           1.0            0.0\n",
       "1           0.0            0.0         0.0           1.0            0.0"
      ]
     },
     "execution_count": 80,
     "metadata": {},
     "output_type": "execute_result"
    }
   ],
   "source": [
    "OH_cols.head(2)"
   ]
  },
  {
   "cell_type": "markdown",
   "metadata": {},
   "source": [
    "A coluna que iniciamente foi criada para plotar o gráfico de dispersão é removida, pois não será mais usada e as colunas criadas a partir do One Hot Encoding são agrupadas ao banco de dados com os variáveis numéricas."
   ]
  },
  {
   "cell_type": "code",
   "execution_count": 81,
   "metadata": {},
   "outputs": [],
   "source": [
    "df_num.drop(['x1'], axis=1, inplace=True)"
   ]
  },
  {
   "cell_type": "code",
   "execution_count": 82,
   "metadata": {},
   "outputs": [],
   "source": [
    "OH_df_num = pd.concat([df_num, OH_cols], axis=1)"
   ]
  },
  {
   "cell_type": "code",
   "execution_count": 83,
   "metadata": {},
   "outputs": [
    {
     "data": {
      "text/html": [
       "<div>\n",
       "<style scoped>\n",
       "    .dataframe tbody tr th:only-of-type {\n",
       "        vertical-align: middle;\n",
       "    }\n",
       "\n",
       "    .dataframe tbody tr th {\n",
       "        vertical-align: top;\n",
       "    }\n",
       "\n",
       "    .dataframe thead th {\n",
       "        text-align: right;\n",
       "    }\n",
       "</style>\n",
       "<table border=\"1\" class=\"dataframe\">\n",
       "  <thead>\n",
       "    <tr style=\"text-align: right;\">\n",
       "      <th></th>\n",
       "      <th>amount</th>\n",
       "      <th>oldbalanceOrg</th>\n",
       "      <th>newbalanceOrig</th>\n",
       "      <th>oldbalanceDest</th>\n",
       "      <th>newbalanceDest</th>\n",
       "      <th>type_CASH_IN</th>\n",
       "      <th>type_CASH_OUT</th>\n",
       "      <th>type_DEBIT</th>\n",
       "      <th>type_PAYMENT</th>\n",
       "      <th>type_TRANSFER</th>\n",
       "    </tr>\n",
       "  </thead>\n",
       "  <tbody>\n",
       "    <tr>\n",
       "      <th>0</th>\n",
       "      <td>9839.64</td>\n",
       "      <td>170136.0</td>\n",
       "      <td>160296.36</td>\n",
       "      <td>0.0</td>\n",
       "      <td>0.0</td>\n",
       "      <td>0.0</td>\n",
       "      <td>0.0</td>\n",
       "      <td>0.0</td>\n",
       "      <td>1.0</td>\n",
       "      <td>0.0</td>\n",
       "    </tr>\n",
       "    <tr>\n",
       "      <th>1</th>\n",
       "      <td>1864.28</td>\n",
       "      <td>21249.0</td>\n",
       "      <td>19384.72</td>\n",
       "      <td>0.0</td>\n",
       "      <td>0.0</td>\n",
       "      <td>0.0</td>\n",
       "      <td>0.0</td>\n",
       "      <td>0.0</td>\n",
       "      <td>1.0</td>\n",
       "      <td>0.0</td>\n",
       "    </tr>\n",
       "    <tr>\n",
       "      <th>2</th>\n",
       "      <td>181.00</td>\n",
       "      <td>181.0</td>\n",
       "      <td>0.00</td>\n",
       "      <td>0.0</td>\n",
       "      <td>0.0</td>\n",
       "      <td>0.0</td>\n",
       "      <td>0.0</td>\n",
       "      <td>0.0</td>\n",
       "      <td>0.0</td>\n",
       "      <td>1.0</td>\n",
       "    </tr>\n",
       "    <tr>\n",
       "      <th>3</th>\n",
       "      <td>181.00</td>\n",
       "      <td>181.0</td>\n",
       "      <td>0.00</td>\n",
       "      <td>21182.0</td>\n",
       "      <td>0.0</td>\n",
       "      <td>0.0</td>\n",
       "      <td>1.0</td>\n",
       "      <td>0.0</td>\n",
       "      <td>0.0</td>\n",
       "      <td>0.0</td>\n",
       "    </tr>\n",
       "    <tr>\n",
       "      <th>4</th>\n",
       "      <td>11668.14</td>\n",
       "      <td>41554.0</td>\n",
       "      <td>29885.86</td>\n",
       "      <td>0.0</td>\n",
       "      <td>0.0</td>\n",
       "      <td>0.0</td>\n",
       "      <td>0.0</td>\n",
       "      <td>0.0</td>\n",
       "      <td>1.0</td>\n",
       "      <td>0.0</td>\n",
       "    </tr>\n",
       "  </tbody>\n",
       "</table>\n",
       "</div>"
      ],
      "text/plain": [
       "     amount  oldbalanceOrg  newbalanceOrig  oldbalanceDest  newbalanceDest  \\\n",
       "0   9839.64       170136.0       160296.36             0.0             0.0   \n",
       "1   1864.28        21249.0        19384.72             0.0             0.0   \n",
       "2    181.00          181.0            0.00             0.0             0.0   \n",
       "3    181.00          181.0            0.00         21182.0             0.0   \n",
       "4  11668.14        41554.0        29885.86             0.0             0.0   \n",
       "\n",
       "   type_CASH_IN  type_CASH_OUT  type_DEBIT  type_PAYMENT  type_TRANSFER  \n",
       "0           0.0            0.0         0.0           1.0            0.0  \n",
       "1           0.0            0.0         0.0           1.0            0.0  \n",
       "2           0.0            0.0         0.0           0.0            1.0  \n",
       "3           0.0            1.0         0.0           0.0            0.0  \n",
       "4           0.0            0.0         0.0           1.0            0.0  "
      ]
     },
     "execution_count": 83,
     "metadata": {},
     "output_type": "execute_result"
    }
   ],
   "source": [
    "OH_df_num.head()"
   ]
  },
  {
   "cell_type": "markdown",
   "metadata": {},
   "source": [
    "Abaixo é criado o dataset que será usado para a criação do modelo. Esse dataset contém as variáveis numéricas e a variável resposta."
   ]
  },
  {
   "cell_type": "code",
   "execution_count": 84,
   "metadata": {},
   "outputs": [],
   "source": [
    "df_model = pd.concat([OH_df_num, df['isFraud']], axis=1)"
   ]
  },
  {
   "cell_type": "code",
   "execution_count": 88,
   "metadata": {},
   "outputs": [
    {
     "data": {
      "text/html": [
       "<div>\n",
       "<style scoped>\n",
       "    .dataframe tbody tr th:only-of-type {\n",
       "        vertical-align: middle;\n",
       "    }\n",
       "\n",
       "    .dataframe tbody tr th {\n",
       "        vertical-align: top;\n",
       "    }\n",
       "\n",
       "    .dataframe thead th {\n",
       "        text-align: right;\n",
       "    }\n",
       "</style>\n",
       "<table border=\"1\" class=\"dataframe\">\n",
       "  <thead>\n",
       "    <tr style=\"text-align: right;\">\n",
       "      <th></th>\n",
       "      <th>amount</th>\n",
       "      <th>oldbalanceOrg</th>\n",
       "      <th>newbalanceOrig</th>\n",
       "      <th>oldbalanceDest</th>\n",
       "      <th>newbalanceDest</th>\n",
       "      <th>type_CASH_IN</th>\n",
       "      <th>type_CASH_OUT</th>\n",
       "      <th>type_DEBIT</th>\n",
       "      <th>type_PAYMENT</th>\n",
       "      <th>type_TRANSFER</th>\n",
       "      <th>isFraud</th>\n",
       "    </tr>\n",
       "  </thead>\n",
       "  <tbody>\n",
       "    <tr>\n",
       "      <th>0</th>\n",
       "      <td>9839.64</td>\n",
       "      <td>170136.0</td>\n",
       "      <td>160296.36</td>\n",
       "      <td>0.0</td>\n",
       "      <td>0.0</td>\n",
       "      <td>0.0</td>\n",
       "      <td>0.0</td>\n",
       "      <td>0.0</td>\n",
       "      <td>1.0</td>\n",
       "      <td>0.0</td>\n",
       "      <td>0</td>\n",
       "    </tr>\n",
       "    <tr>\n",
       "      <th>1</th>\n",
       "      <td>1864.28</td>\n",
       "      <td>21249.0</td>\n",
       "      <td>19384.72</td>\n",
       "      <td>0.0</td>\n",
       "      <td>0.0</td>\n",
       "      <td>0.0</td>\n",
       "      <td>0.0</td>\n",
       "      <td>0.0</td>\n",
       "      <td>1.0</td>\n",
       "      <td>0.0</td>\n",
       "      <td>0</td>\n",
       "    </tr>\n",
       "    <tr>\n",
       "      <th>2</th>\n",
       "      <td>181.00</td>\n",
       "      <td>181.0</td>\n",
       "      <td>0.00</td>\n",
       "      <td>0.0</td>\n",
       "      <td>0.0</td>\n",
       "      <td>0.0</td>\n",
       "      <td>0.0</td>\n",
       "      <td>0.0</td>\n",
       "      <td>0.0</td>\n",
       "      <td>1.0</td>\n",
       "      <td>1</td>\n",
       "    </tr>\n",
       "    <tr>\n",
       "      <th>3</th>\n",
       "      <td>181.00</td>\n",
       "      <td>181.0</td>\n",
       "      <td>0.00</td>\n",
       "      <td>21182.0</td>\n",
       "      <td>0.0</td>\n",
       "      <td>0.0</td>\n",
       "      <td>1.0</td>\n",
       "      <td>0.0</td>\n",
       "      <td>0.0</td>\n",
       "      <td>0.0</td>\n",
       "      <td>1</td>\n",
       "    </tr>\n",
       "    <tr>\n",
       "      <th>4</th>\n",
       "      <td>11668.14</td>\n",
       "      <td>41554.0</td>\n",
       "      <td>29885.86</td>\n",
       "      <td>0.0</td>\n",
       "      <td>0.0</td>\n",
       "      <td>0.0</td>\n",
       "      <td>0.0</td>\n",
       "      <td>0.0</td>\n",
       "      <td>1.0</td>\n",
       "      <td>0.0</td>\n",
       "      <td>0</td>\n",
       "    </tr>\n",
       "  </tbody>\n",
       "</table>\n",
       "</div>"
      ],
      "text/plain": [
       "     amount  oldbalanceOrg  newbalanceOrig  oldbalanceDest  newbalanceDest  \\\n",
       "0   9839.64       170136.0       160296.36             0.0             0.0   \n",
       "1   1864.28        21249.0        19384.72             0.0             0.0   \n",
       "2    181.00          181.0            0.00             0.0             0.0   \n",
       "3    181.00          181.0            0.00         21182.0             0.0   \n",
       "4  11668.14        41554.0        29885.86             0.0             0.0   \n",
       "\n",
       "   type_CASH_IN  type_CASH_OUT  type_DEBIT  type_PAYMENT  type_TRANSFER  \\\n",
       "0           0.0            0.0         0.0           1.0            0.0   \n",
       "1           0.0            0.0         0.0           1.0            0.0   \n",
       "2           0.0            0.0         0.0           0.0            1.0   \n",
       "3           0.0            1.0         0.0           0.0            0.0   \n",
       "4           0.0            0.0         0.0           1.0            0.0   \n",
       "\n",
       "  isFraud  \n",
       "0       0  \n",
       "1       0  \n",
       "2       1  \n",
       "3       1  \n",
       "4       0  "
      ]
     },
     "execution_count": 88,
     "metadata": {},
     "output_type": "execute_result"
    }
   ],
   "source": [
    "df_model.head()"
   ]
  },
  {
   "cell_type": "markdown",
   "metadata": {},
   "source": [
    "Como mencionado anteriormente, o banco de dados é muito desbalanceado, por isso deverá ser aplicado técnicas de balanceamento.\n",
    "Antes disso, o banco de dados será divido entre treino e teste, sendo 77% dos dados para treino e 33% para teste. Os dados de treino serão usados para treinar o modelo e os dados de teste serão usados para posterior análise das métricas do modelo."
   ]
  },
  {
   "cell_type": "code",
   "execution_count": 90,
   "metadata": {},
   "outputs": [],
   "source": [
    "X = df_model.drop(columns=['isFraud'])\n",
    "y = df_model.isFraud\n",
    "\n",
    "X_train, X_test, y_train, y_test = train_test_split(X,y,\n",
    "                                                    test_size=0.33,\n",
    "                                                    random_state=42)"
   ]
  },
  {
   "cell_type": "markdown",
   "metadata": {},
   "source": [
    "#### Implementação e análise do modelo\n",
    "\n",
    "Dado que a variável resposta é categórica binária, fraude, sim ou não, opta-se pelo uso da regressão logística para criação do modelo. Esse algorítmo irá estimar a probabilidade de uma transação pertencer a transações fraudulentas ou não.\n",
    "\n",
    "A avaliação do modelo será feita com as métricas de acurácia, precisão, recall, F1 score e área abaixo da curva (AUC). Para comparar as métricas entre os modelos, foi definida a função \"model_evaluation\".\n",
    "\n",
    "Inicialmente criou-se o modelo baseline, sendo o modelo mais simples possível. Esse modelo foi criado a partir dos dados originais, ou seja, desbalanceados. O modelo baseline será usado como referência para verificar se as técnicas de balanceamento aplicadas resultam em melhores resultados ou não."
   ]
  },
  {
   "cell_type": "markdown",
   "metadata": {},
   "source": [
    "**Baseline Model:**"
   ]
  },
  {
   "cell_type": "code",
   "execution_count": 93,
   "metadata": {},
   "outputs": [
    {
     "data": {
      "text/html": [
       "<style>#sk-container-id-1 {color: black;}#sk-container-id-1 pre{padding: 0;}#sk-container-id-1 div.sk-toggleable {background-color: white;}#sk-container-id-1 label.sk-toggleable__label {cursor: pointer;display: block;width: 100%;margin-bottom: 0;padding: 0.3em;box-sizing: border-box;text-align: center;}#sk-container-id-1 label.sk-toggleable__label-arrow:before {content: \"▸\";float: left;margin-right: 0.25em;color: #696969;}#sk-container-id-1 label.sk-toggleable__label-arrow:hover:before {color: black;}#sk-container-id-1 div.sk-estimator:hover label.sk-toggleable__label-arrow:before {color: black;}#sk-container-id-1 div.sk-toggleable__content {max-height: 0;max-width: 0;overflow: hidden;text-align: left;background-color: #f0f8ff;}#sk-container-id-1 div.sk-toggleable__content pre {margin: 0.2em;color: black;border-radius: 0.25em;background-color: #f0f8ff;}#sk-container-id-1 input.sk-toggleable__control:checked~div.sk-toggleable__content {max-height: 200px;max-width: 100%;overflow: auto;}#sk-container-id-1 input.sk-toggleable__control:checked~label.sk-toggleable__label-arrow:before {content: \"▾\";}#sk-container-id-1 div.sk-estimator input.sk-toggleable__control:checked~label.sk-toggleable__label {background-color: #d4ebff;}#sk-container-id-1 div.sk-label input.sk-toggleable__control:checked~label.sk-toggleable__label {background-color: #d4ebff;}#sk-container-id-1 input.sk-hidden--visually {border: 0;clip: rect(1px 1px 1px 1px);clip: rect(1px, 1px, 1px, 1px);height: 1px;margin: -1px;overflow: hidden;padding: 0;position: absolute;width: 1px;}#sk-container-id-1 div.sk-estimator {font-family: monospace;background-color: #f0f8ff;border: 1px dotted black;border-radius: 0.25em;box-sizing: border-box;margin-bottom: 0.5em;}#sk-container-id-1 div.sk-estimator:hover {background-color: #d4ebff;}#sk-container-id-1 div.sk-parallel-item::after {content: \"\";width: 100%;border-bottom: 1px solid gray;flex-grow: 1;}#sk-container-id-1 div.sk-label:hover label.sk-toggleable__label {background-color: #d4ebff;}#sk-container-id-1 div.sk-serial::before {content: \"\";position: absolute;border-left: 1px solid gray;box-sizing: border-box;top: 0;bottom: 0;left: 50%;z-index: 0;}#sk-container-id-1 div.sk-serial {display: flex;flex-direction: column;align-items: center;background-color: white;padding-right: 0.2em;padding-left: 0.2em;position: relative;}#sk-container-id-1 div.sk-item {position: relative;z-index: 1;}#sk-container-id-1 div.sk-parallel {display: flex;align-items: stretch;justify-content: center;background-color: white;position: relative;}#sk-container-id-1 div.sk-item::before, #sk-container-id-1 div.sk-parallel-item::before {content: \"\";position: absolute;border-left: 1px solid gray;box-sizing: border-box;top: 0;bottom: 0;left: 50%;z-index: -1;}#sk-container-id-1 div.sk-parallel-item {display: flex;flex-direction: column;z-index: 1;position: relative;background-color: white;}#sk-container-id-1 div.sk-parallel-item:first-child::after {align-self: flex-end;width: 50%;}#sk-container-id-1 div.sk-parallel-item:last-child::after {align-self: flex-start;width: 50%;}#sk-container-id-1 div.sk-parallel-item:only-child::after {width: 0;}#sk-container-id-1 div.sk-dashed-wrapped {border: 1px dashed gray;margin: 0 0.4em 0.5em 0.4em;box-sizing: border-box;padding-bottom: 0.4em;background-color: white;}#sk-container-id-1 div.sk-label label {font-family: monospace;font-weight: bold;display: inline-block;line-height: 1.2em;}#sk-container-id-1 div.sk-label-container {text-align: center;}#sk-container-id-1 div.sk-container {/* jupyter's `normalize.less` sets `[hidden] { display: none; }` but bootstrap.min.css set `[hidden] { display: none !important; }` so we also need the `!important` here to be able to override the default hidden behavior on the sphinx rendered scikit-learn.org. See: https://github.com/scikit-learn/scikit-learn/issues/21755 */display: inline-block !important;position: relative;}#sk-container-id-1 div.sk-text-repr-fallback {display: none;}</style><div id=\"sk-container-id-1\" class=\"sk-top-container\"><div class=\"sk-text-repr-fallback\"><pre>LogisticRegression(max_iter=200)</pre><b>In a Jupyter environment, please rerun this cell to show the HTML representation or trust the notebook. <br />On GitHub, the HTML representation is unable to render, please try loading this page with nbviewer.org.</b></div><div class=\"sk-container\" hidden><div class=\"sk-item\"><div class=\"sk-estimator sk-toggleable\"><input class=\"sk-toggleable__control sk-hidden--visually\" id=\"sk-estimator-id-1\" type=\"checkbox\" checked><label for=\"sk-estimator-id-1\" class=\"sk-toggleable__label sk-toggleable__label-arrow\">LogisticRegression</label><div class=\"sk-toggleable__content\"><pre>LogisticRegression(max_iter=200)</pre></div></div></div></div></div>"
      ],
      "text/plain": [
       "LogisticRegression(max_iter=200)"
      ]
     },
     "execution_count": 93,
     "metadata": {},
     "output_type": "execute_result"
    }
   ],
   "source": [
    "logreg_baseline = LogisticRegression(max_iter=200)\n",
    "logreg_baseline.fit(X_train, y_train)"
   ]
  },
  {
   "cell_type": "code",
   "execution_count": 94,
   "metadata": {},
   "outputs": [],
   "source": [
    "y_pred_baseline = logreg_baseline.predict(X_test)"
   ]
  },
  {
   "cell_type": "code",
   "execution_count": 95,
   "metadata": {},
   "outputs": [
    {
     "name": "stdout",
     "output_type": "stream",
     "text": [
      "              precision    recall  f1-score   support\n",
      "\n",
      "   Not Fraud       1.00      1.00      1.00   2096999\n",
      "       Fraud       0.33      0.80      0.46      2666\n",
      "\n",
      "    accuracy                           1.00   2099665\n",
      "   macro avg       0.66      0.90      0.73   2099665\n",
      "weighted avg       1.00      1.00      1.00   2099665\n",
      "\n",
      "  Estrategy  accuracy  precision   recall  F1 score       AUC\n",
      "0  baseline  0.997641   0.325553  0.80045  0.462857  0.899171\n"
     ]
    },
    {
     "data": {
      "image/png": "[encoded data removed]",
      "text/plain": [
       "<Figure size 640x480 with 2 Axes>"
      ]
     },
     "metadata": {},
     "output_type": "display_data"
    }
   ],
   "source": [
    "model_evaluation(y_test, y_pred_baseline, logreg_baseline, 'baseline')"
   ]
  },
  {
   "cell_type": "markdown",
   "metadata": {},
   "source": [
    "O modelo baseline apresentou acurácia de 99,76%. Essa métrica expressa a porcentagem de amostras que foram classificadas como fraudes e não fraudes que verdadeiramente são isso, porém a precisão foi baixa, sendo 32,5%. A precisão indica o quanto o modelo acertou ao identicar as fraudes. Nesse caso, o modelo identificou 2134 fraudes que realmente eram fraudes, porém identificou 4421 transações normais como fraude. Recall é a taxa de detecção, de todas as amostras de fraudes que o modelo poderia detectar, quantas ele realmente detectou. O recall desse modelo foi de 80,0%.  \n",
    "F1 Score é uma métrica que relaciona precisão e recall, quanto mais próximo de 1, melhor o valor dessa métrica.  \n",
    "O AUC indica a eficácia do classificador. Uma AUC igual a 1 indica uma classificação perfeita, ou seja, todas as fraudes foram detectadas corretamente e não nenhuma transação normal foi detectada como fraude. Assim, o presente modelo com AUC de 0.90, demonstra uma ótima eficácia em detectar fraudes."
   ]
  },
  {
   "cell_type": "markdown",
   "metadata": {},
   "source": [
    "Abaixo serão usadas técnicas para balancear as amostras. E posteriormente serão avaliados os modelos gerados a partir dessas técnicas.\n",
    "\n",
    "**Balanceamento automático de classes:**"
   ]
  },
  {
   "cell_type": "code",
   "execution_count": 96,
   "metadata": {},
   "outputs": [],
   "source": [
    "logreg_balanced = LogisticRegression(class_weight='balanced')\n",
    "logreg_balanced.fit(X_train, y_train)\n",
    "y_pred_balanced = logreg_balanced.predict(X_test)"
   ]
  },
  {
   "cell_type": "code",
   "execution_count": 97,
   "metadata": {},
   "outputs": [
    {
     "name": "stdout",
     "output_type": "stream",
     "text": [
      "              precision    recall  f1-score   support\n",
      "\n",
      "   Not Fraud       1.00      0.81      0.89   2096999\n",
      "       Fraud       0.01      0.98      0.01      2666\n",
      "\n",
      "    accuracy                           0.81   2099665\n",
      "   macro avg       0.50      0.89      0.45   2099665\n",
      "weighted avg       1.00      0.81      0.89   2099665\n",
      "\n",
      "          Estrategy  accuracy  precision    recall  F1 score       AUC\n",
      "0          baseline  0.997641   0.325553  0.800450  0.462857  0.899171\n",
      "1  balanced classes  0.806749   0.006416  0.982746  0.012749  0.894636\n"
     ]
    },
    {
     "data": {
      "image/png": "[encoded data removed]",
      "text/plain": [
       "<Figure size 640x480 with 2 Axes>"
      ]
     },
     "metadata": {},
     "output_type": "display_data"
    }
   ],
   "source": [
    "model_evaluation(y_test, y_pred_balanced, logreg_balanced, 'balanced classes')"
   ]
  },
  {
   "cell_type": "markdown",
   "metadata": {},
   "source": [
    "O modelo com classes balanceadas automaticamente apresentou um grande número de falsos positivos, tornando a precisão do modelo em identificar fraudes muito baixa. Essa precisão muito baixa pode tornar a experiência do cliente muito ruim, pois muitas de suas transações normais serão apontadas como fraude. O modelo baseline apresentou uma performance melhor."
   ]
  },
  {
   "cell_type": "markdown",
   "metadata": {},
   "source": [
    "Abaixo é usada a técnica de grid research para identificar o balanceamento que otimiza a métrica de F1 score."
   ]
  },
  {
   "cell_type": "code",
   "execution_count": 112,
   "metadata": {},
   "outputs": [],
   "source": [
    "weights = np.linspace(0.0, 0.99, 50)\n",
    "\n",
    "param_grid = {'class_weight': [{0:x, 1:1.0-x} for x in weights]}\n",
    "\n",
    "gridsearch = GridSearchCV(estimator= logreg_baseline,\n",
    "                          param_grid= param_grid,\n",
    "                          n_jobs= -1,\n",
    "                          scoring='f1').fit(X_train, y_train)\n"
   ]
  },
  {
   "cell_type": "code",
   "execution_count": 113,
   "metadata": {},
   "outputs": [
    {
     "name": "stdout",
     "output_type": "stream",
     "text": [
      "customized balanced classes parameters: {'class_weight': {0: 0.8687755102040816, 1: 0.1312244897959184}}\n",
      "best F1 Score is: 0.8019032553267363\n"
     ]
    }
   ],
   "source": [
    "print(\"customized balanced classes parameters: {}\".format(gridsearch.best_params_))\n",
    "print(\"best F1 Score is: {}\".format(gridsearch.best_score_))"
   ]
  },
  {
   "cell_type": "markdown",
   "metadata": {},
   "source": [
    "**Balanceamento de classes customizado** com os pesos das classes obtidas através da técnica de grid search. O grid search foi usado buscando otimizar a métrica de F1 score."
   ]
  },
  {
   "cell_type": "code",
   "execution_count": 99,
   "metadata": {},
   "outputs": [],
   "source": [
    "logreg_customized = LogisticRegression(class_weight={0: 0.87, 1: 0.13})"
   ]
  },
  {
   "cell_type": "code",
   "execution_count": 100,
   "metadata": {},
   "outputs": [],
   "source": [
    "logreg_customized.fit(X_train, y_train)\n",
    "y_pred_customized = logreg_customized.predict(X_test)"
   ]
  },
  {
   "cell_type": "code",
   "execution_count": 101,
   "metadata": {},
   "outputs": [
    {
     "name": "stdout",
     "output_type": "stream",
     "text": [
      "              precision    recall  f1-score   support\n",
      "\n",
      "   Not Fraud       1.00      1.00      1.00   2096999\n",
      "       Fraud       0.96      0.70      0.81      2666\n",
      "\n",
      "    accuracy                           1.00   2099665\n",
      "   macro avg       0.98      0.85      0.91   2099665\n",
      "weighted avg       1.00      1.00      1.00   2099665\n",
      "\n",
      "                     Estrategy  accuracy  precision    recall  F1 score  \\\n",
      "0                     baseline  0.997641   0.325553  0.800450  0.462857   \n",
      "1             balanced classes  0.806749   0.006416  0.982746  0.012749   \n",
      "2  Customized Balanced Classes  0.999585   0.960493  0.702176  0.811268   \n",
      "\n",
      "        AUC  \n",
      "0  0.899171  \n",
      "1  0.894636  \n",
      "2  0.851069  \n"
     ]
    },
    {
     "data": {
      "image/png": "[encoded data removed]",
      "text/plain": [
       "<Figure size 640x480 with 2 Axes>"
      ]
     },
     "metadata": {},
     "output_type": "display_data"
    }
   ],
   "source": [
    "model_evaluation(y_test, y_pred_customized, logreg_customized, 'Customized Balanced Classes')"
   ]
  },
  {
   "cell_type": "markdown",
   "metadata": {},
   "source": [
    "O modelo com balanceamento customizado apresentou o melhor resultado considerando os valores encontrados em cada métrica.  \n",
    "A precisão foi de 96,0%, a melhor comparada com os modelos anteriores. 1872 verdadeiramente fraudes foram identificadas e somente 77 transações normais foram classificadas como fraude. Porém, 794 fraudes foram classificadas como transações normais, tendo uma métrica de recall pior quando comparada com os modelos anteriores."
   ]
  },
  {
   "cell_type": "markdown",
   "metadata": {},
   "source": [
    "#### Técnicas de reamostragem do dataset"
   ]
  },
  {
   "cell_type": "markdown",
   "metadata": {},
   "source": [
    "**Over-sampling**\n",
    "\n",
    "ADASYN (Adaptative Synthetic Algorithm)"
   ]
  },
  {
   "cell_type": "markdown",
   "metadata": {},
   "source": [
    "O código abaixo realiza a reamostragem dos dados e cria o modelo a partir desse novo banco de dados."
   ]
  },
  {
   "cell_type": "code",
   "execution_count": 103,
   "metadata": {},
   "outputs": [
    {
     "name": "stdout",
     "output_type": "stream",
     "text": [
      "Resultado após o oversampling Counter({0: 4257408, 1: 936253})\n"
     ]
    }
   ],
   "source": [
    "adasyn = ADASYN(random_state=42, sampling_strategy=0.22)\n",
    "X_over, y_over = adasyn.fit_resample(X_train, y_train)\n",
    "print(\"Resultado após o oversampling %s\" % Counter(y_over))"
   ]
  },
  {
   "cell_type": "code",
   "execution_count": 104,
   "metadata": {},
   "outputs": [
    {
     "name": "stdout",
     "output_type": "stream",
     "text": [
      "              precision    recall  f1-score   support\n",
      "\n",
      "   Not Fraud       1.00      0.91      0.95   2096999\n",
      "       Fraud       0.01      0.98      0.03      2666\n",
      "\n",
      "    accuracy                           0.91   2099665\n",
      "   macro avg       0.51      0.94      0.49   2099665\n",
      "weighted avg       1.00      0.91      0.95   2099665\n",
      "\n",
      "                         Estrategy  accuracy  precision    recall  F1 score  \\\n",
      "0                         baseline  0.997641   0.325553  0.800450  0.462857   \n",
      "1                 balanced classes  0.806749   0.006416  0.982746  0.012749   \n",
      "2      Customized Balanced Classes  0.999585   0.960493  0.702176  0.811268   \n",
      "3  Over Sampling - ADASYN (22:100)  0.908251   0.013401  0.981245  0.026441   \n",
      "\n",
      "        AUC  \n",
      "0  0.899171  \n",
      "1  0.894636  \n",
      "2  0.851069  \n",
      "3  0.944702  \n"
     ]
    },
    {
     "data": {
      "image/png": "[encoded data removed]",
      "text/plain": [
       "<Figure size 640x480 with 2 Axes>"
      ]
     },
     "metadata": {},
     "output_type": "display_data"
    }
   ],
   "source": [
    "logreg_baseline.fit(X_over, y_over)\n",
    "y_pred_adasyn = logreg_baseline.predict(X_test)\n",
    "model_evaluation(y_test, y_pred_adasyn, logreg_baseline, 'Over Sampling - ADASYN (22:100)')"
   ]
  },
  {
   "cell_type": "markdown",
   "metadata": {},
   "source": [
    "A técnica over-sampling trouxe piores resultados de precisão e, consequentemente, F1 score. Ou seja, um grande número de transações normais foram identificadas como fraudulentas, mesmo sendo identificadas grande parte das fraudes."
   ]
  },
  {
   "cell_type": "markdown",
   "metadata": {},
   "source": [
    "### Under Sampling"
   ]
  },
  {
   "cell_type": "code",
   "execution_count": 106,
   "metadata": {},
   "outputs": [
    {
     "name": "stdout",
     "output_type": "stream",
     "text": [
      "Resultado após o under sampling Counter({0: 15848, 1: 5547})\n"
     ]
    }
   ],
   "source": [
    "cc = ClusterCentroids(estimator=MiniBatchKMeans(),\n",
    "                      random_state= 42,\n",
    "                      sampling_strategy=0.35)\n",
    "\n",
    "X_under, y_under = cc.fit_resample(X_train, y_train)\n",
    "print('Resultado após o under sampling %s' % Counter(y_under))"
   ]
  },
  {
   "cell_type": "code",
   "execution_count": 107,
   "metadata": {},
   "outputs": [
    {
     "name": "stdout",
     "output_type": "stream",
     "text": [
      "              precision    recall  f1-score   support\n",
      "\n",
      "   Not Fraud       1.00      0.90      0.95   2096999\n",
      "       Fraud       0.01      0.97      0.02      2666\n",
      "\n",
      "    accuracy                           0.90   2099665\n",
      "   macro avg       0.51      0.93      0.48   2099665\n",
      "weighted avg       1.00      0.90      0.94   2099665\n",
      "\n",
      "                         Estrategy  accuracy  precision    recall  F1 score  \\\n",
      "0                         baseline  0.997641   0.325553  0.800450  0.462857   \n",
      "1                 balanced classes  0.806749   0.006416  0.982746  0.012749   \n",
      "2      Customized Balanced Classes  0.999585   0.960493  0.702176  0.811268   \n",
      "3  Over Sampling - ADASYN (22:100)  0.908251   0.013401  0.981245  0.026441   \n",
      "4              Under Sampling - CC  0.896180   0.011693  0.966992  0.023106   \n",
      "\n",
      "        AUC  \n",
      "0  0.899171  \n",
      "1  0.894636  \n",
      "2  0.851069  \n",
      "3  0.944702  \n",
      "4  0.931541  \n"
     ]
    },
    {
     "data": {
      "image/png": "[encoded data removed]",
      "text/plain": [
       "<Figure size 640x480 with 2 Axes>"
      ]
     },
     "metadata": {},
     "output_type": "display_data"
    }
   ],
   "source": [
    "logreg_baseline.fit(X_under, y_under)\n",
    "y_pred_under_cc = logreg_baseline.predict(X_test)\n",
    "model_evaluation(y_test, y_pred_under_cc, logreg_baseline, 'Under Sampling - CC')"
   ]
  },
  {
   "cell_type": "markdown",
   "metadata": {},
   "source": [
    "A técnica de under-sampling também trouxe piores resultados de precisão e, consequentemente, F1 score. Ou seja, um grande número de transações normais foram identificadas como fraudulentas, mesmo sendo identificadas grande parte das fraudes."
   ]
  },
  {
   "cell_type": "markdown",
   "metadata": {},
   "source": [
    "### Under Sampling + Over-sampling"
   ]
  },
  {
   "cell_type": "code",
   "execution_count": 109,
   "metadata": {},
   "outputs": [
    {
     "name": "stdout",
     "output_type": "stream",
     "text": [
      "Results after under + over sampling strategy: Counter({0: 4240211, 1: 418667})\n"
     ]
    }
   ],
   "source": [
    "sme = SMOTEENN(random_state=42, sampling_strategy=0.1) #proportion 1:10\n",
    "\n",
    "X_smoteen, y_smoteen = sme.fit_resample(X_train, y_train)\n",
    "\n",
    "print('Results after under + over sampling strategy: %s' % Counter(y_smoteen))"
   ]
  },
  {
   "cell_type": "code",
   "execution_count": 110,
   "metadata": {},
   "outputs": [
    {
     "name": "stdout",
     "output_type": "stream",
     "text": [
      "              precision    recall  f1-score   support\n",
      "\n",
      "   Not Fraud       1.00      0.93      0.96   2096999\n",
      "       Fraud       0.02      0.95      0.03      2666\n",
      "\n",
      "    accuracy                           0.93   2099665\n",
      "   macro avg       0.51      0.94      0.50   2099665\n",
      "weighted avg       1.00      0.93      0.96   2099665\n",
      "\n",
      "                         Estrategy  accuracy  precision    recall  F1 score  \\\n",
      "0                         baseline  0.997641   0.325553  0.800450  0.462857   \n",
      "1                 balanced classes  0.806749   0.006416  0.982746  0.012749   \n",
      "2      Customized Balanced Classes  0.999585   0.960493  0.702176  0.811268   \n",
      "3  Over Sampling - ADASYN (22:100)  0.908251   0.013401  0.981245  0.026441   \n",
      "4              Under Sampling - CC  0.896180   0.011693  0.966992  0.023106   \n",
      "5   Under and Over Sampling (1:10)  0.929481   0.016809  0.948612  0.033032   \n",
      "\n",
      "        AUC  \n",
      "0  0.899171  \n",
      "1  0.894636  \n",
      "2  0.851069  \n",
      "3  0.944702  \n",
      "4  0.931541  \n",
      "5  0.939034  \n"
     ]
    },
    {
     "data": {
      "image/png": "[encoded data removed]",
      "text/plain": [
       "<Figure size 640x480 with 2 Axes>"
      ]
     },
     "metadata": {},
     "output_type": "display_data"
    }
   ],
   "source": [
    "logreg_baseline.fit(X_smoteen, y_smoteen)\n",
    "y_pred_smoteen = logreg_baseline.predict(X_test)\n",
    "model_evaluation(y_test, y_pred_smoteen, logreg_baseline, 'Under and Over Sampling (1:10)')"
   ]
  },
  {
   "cell_type": "markdown",
   "metadata": {},
   "source": [
    "A técnica de under-sampling + over-sampling também trouxe piores resultados de precisão e, consequentemente, F1 score. Ou seja, um grande número de transações normais foram identificadas como fraudulentas, mesmo sendo identificadas grande parte das fraudes."
   ]
  },
  {
   "cell_type": "markdown",
   "metadata": {},
   "source": [
    "#### Conclusão"
   ]
  },
  {
   "cell_type": "markdown",
   "metadata": {},
   "source": [
    "Levando-se em consideração que a técnica de classificação utilizada para criar o modelo foi a regressão logística, e que esse método é eficiente em dados balanceados, buscou-se reduzir a disparidade dos dados com o objetivo de melhorar a performance no modelo em identificar fraudes em transações bancárias. Com isso, obteve-se um modelo capaz de prever fraudes bancárias com acurácia de 99,9%, precisão de 96,0% e recall de 70,2%. Esse modelo foi obtido a partir do balanceamento customizado das classes."
   ]
  }
 ],
 "metadata": {
  "kernelspec": {
   "display_name": "venv",
   "language": "python",
   "name": "python3"
  },
  "language_info": {
   "codemirror_mode": {
    "name": "ipython",
    "version": 3
   },
   "file_extension": ".py",
   "mimetype": "text/x-python",
   "name": "python",
   "nbconvert_exporter": "python",
   "pygments_lexer": "ipython3",
   "version": "3.11.4"
  },
  "orig_nbformat": 4
 },
 "nbformat": 4,
 "nbformat_minor": 2
}
